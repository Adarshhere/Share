{
 "cells": [
  {
   "cell_type": "markdown",
   "id": "3479e4b0-5b92-4979-a0c6-b83c81710317",
   "metadata": {},
   "source": [
    "# My Jupyter Notebook on IBM Watson Studio"
   ]
  },
  {
   "cell_type": "markdown",
   "id": "9ab47f45-ac72-44d9-8f1f-e78fa7cbb83f",
   "metadata": {},
   "source": [
    "**Adarsh Kumar**"
   ]
  },
  {
   "cell_type": "markdown",
   "id": "c6916de7-da68-4fd3-b22c-bc8d163b8b45",
   "metadata": {},
   "source": [
    "Data Scientist"
   ]
  },
  {
   "cell_type": "markdown",
   "id": "89239be3-214c-4bf1-bd7e-5e55598e1f10",
   "metadata": {},
   "source": [
    "_I am interested in data science because i love working with data_"
   ]
  },
  {
   "cell_type": "markdown",
   "id": "ad5f02e6-671d-458f-a31a-52cf8f3eb765",
   "metadata": {},
   "source": [
    "### Cell 5 will print summation of 1+1"
   ]
  },
  {
   "cell_type": "code",
   "execution_count": 1,
   "id": "397f54c5-ddba-49c0-afb0-97028f4a48f0",
   "metadata": {},
   "outputs": [
    {
     "name": "stdout",
     "output_type": "stream",
     "text": [
      "2\n"
     ]
    }
   ],
   "source": [
    "print(1+1)"
   ]
  },
  {
   "cell_type": "markdown",
   "id": "7b890165-b02f-4834-b159-7ec46a13662c",
   "metadata": {},
   "source": [
    "> Horizontal Rule\n",
    "\n",
    "\n",
    "| Table | Table |\n",
    "| ----| ----|\n",
    "| text   | text |\n",
    "| text | text |\n",
    "\n",
    "\n",
    "[external link text]()"
   ]
  },
  {
   "cell_type": "code",
   "execution_count": null,
   "id": "fa84be38-b858-402d-884e-7fd7fe0d8c05",
   "metadata": {},
   "outputs": [],
   "source": []
  }
 ],
 "metadata": {
  "kernelspec": {
   "display_name": "Python",
   "language": "python",
   "name": "conda-env-python-py"
  },
  "language_info": {
   "codemirror_mode": {
    "name": "ipython",
    "version": 3
   },
   "file_extension": ".py",
   "mimetype": "text/x-python",
   "name": "python",
   "nbconvert_exporter": "python",
   "pygments_lexer": "ipython3",
   "version": "3.7.12"
  }
 },
 "nbformat": 4,
 "nbformat_minor": 5
}
